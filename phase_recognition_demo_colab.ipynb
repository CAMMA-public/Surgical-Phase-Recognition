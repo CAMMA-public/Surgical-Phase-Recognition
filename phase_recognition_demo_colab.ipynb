{
  "nbformat": 4,
  "nbformat_minor": 0,
  "metadata": {
    "language_info": {
      "codemirror_mode": {
        "name": "ipython",
        "version": 3
      },
      "file_extension": ".py",
      "mimetype": "text/x-python",
      "name": "python",
      "nbconvert_exporter": "python",
      "pygments_lexer": "ipython3",
      "version": "3.6.6-final"
    },
    "orig_nbformat": 2,
    "kernelspec": {
      "name": "python3",
      "display_name": "Python 3"
    },
    "colab": {
      "name": "phase_recognition_demo.ipynb",
      "provenance": [],
      "collapsed_sections": [],
      "toc_visible": true
    },
    "accelerator": "GPU"
  },
  "cells": [
    {
      "cell_type": "markdown",
      "metadata": {
        "id": "3lkAB39gZp-W",
        "colab_type": "text"
      },
      "source": [
        "# Deep Temporal Model for Surgical Phase Recognition\n",
        "-------------------\n",
        "**Learning from a tiny dataset of manual annotations: a teacher/student approach for surgical phase recognition (IPCAI 2019)**\n",
        "\n",
        "_Tong Yu, Didier Mutter, Jacques Marescaux, Nicolas Padoy_\n",
        "\n",
        "[![arXiv](https://img.shields.io/badge/arxiv-1812.00033-red)](https://arxiv.org/abs/1812.00033)"
      ]
    },
    {
      "cell_type": "markdown",
      "metadata": {
        "id": "nqYKCEL3c28O",
        "colab_type": "text"
      },
      "source": [
        "## Prerequisites"
      ]
    },
    {
      "cell_type": "code",
      "execution_count": null,
      "metadata": {},
      "outputs": [],
      "source": [
        "%%bash\n",
        "git clone https://github.com/CAMMA-public/Surgical-Phase-Recognition.git\n",
        "cd Surgical-Phase-Recognition/"
      ]
    },
    {
      "cell_type": "code",
      "metadata": {
        "id": "wV0jxFmac8GQ",
        "colab_type": "code",
        "colab": {
          "base_uri": "https://localhost:8080/",
          "height": 793
        },
        "outputId": "a6206ef1-70cd-4b95-8f40-c005e22ae266"
      },
      "source": [
        "%%bash\n",
        "pip uninstall -y tensorflow\n",
        "pip install ruamel_yaml\n",
        "pip install tensorflow-gpu==1.14"
      ],
      "execution_count": null,
      "outputs": []
    },
    {
      "cell_type": "code",
      "metadata": {
        "id": "b6Jr3j8JZmrQ",
        "colab_type": "code",
        "colab": {
          "base_uri": "https://localhost:8080/",
          "height": 469
        },
        "outputId": "b704166a-ca8d-433b-ac73-455b4c575dc9"
      },
      "source": [
        "from process_video import phase_recognition, phase_plot"
      ],
      "execution_count": null,
      "outputs": []
    },
    {
      "cell_type": "markdown",
      "metadata": {
        "id": "gPl_2jfjZmrV",
        "colab_type": "text"
      },
      "source": [
        "## Downloading the data"
      ]
    },
    {
      "cell_type": "code",
      "metadata": {
        "id": "9Fgh9aUVZmrW",
        "colab_type": "code",
        "colab": {}
      },
      "source": [
        "VIDPATH = \"videos/phase_recognition_example.mp4\""
      ],
      "execution_count": null,
      "outputs": []
    },
    {
      "cell_type": "markdown",
      "metadata": {
        "id": "WP_AKjt3Zmra",
        "colab_type": "text"
      },
      "source": [
        "Model checkpoints:"
      ]
    },
    {
      "cell_type": "code",
      "metadata": {
        "id": "tS9uS56vZmrb",
        "colab_type": "code",
        "colab": {
          "base_uri": "https://localhost:8080/",
          "height": 287
        },
        "outputId": "ac7a776f-3ed5-45ce-e1a9-35e38a628d19"
      },
      "source": [
        "!wget --content-disposition https://s3.unistra.fr/camma_public/github/phase_recognition/checkpoints.zip"
      ],
      "execution_count": null,
      "outputs": []
    },
    {
      "cell_type": "markdown",
      "metadata": {
        "id": "nUeQhP_xZmre",
        "colab_type": "text"
      },
      "source": [
        "Video samples:"
      ]
    },
    {
      "cell_type": "code",
      "metadata": {
        "id": "8ot1nE1nZmrf",
        "colab_type": "code",
        "colab": {
          "base_uri": "https://localhost:8080/",
          "height": 287
        },
        "outputId": "4ae8bb00-1796-46ee-e85b-5a66cfb70926"
      },
      "source": [
        "!wget --content-disposition https://s3.unistra.fr/camma_public/github/phase_recognition/videos.zip"
      ],
      "execution_count": null,
      "outputs": []
    },
    {
      "cell_type": "markdown",
      "metadata": {
        "id": "rHgXb8maZmrj",
        "colab_type": "text"
      },
      "source": [
        "Unzipping:"
      ]
    },
    {
      "cell_type": "code",
      "metadata": {
        "tags": [],
        "id": "FX4ErRRGZmrl",
        "colab_type": "code",
        "colab": {
          "base_uri": "https://localhost:8080/",
          "height": 89
        },
        "outputId": "981e8b2e-2194-4f33-dcd9-e799a643b4c0"
      },
      "source": [
        "!unzip videos.zip"
      ],
      "execution_count": null,
      "outputs": []
    },
    {
      "cell_type": "code",
      "metadata": {
        "tags": [],
        "id": "wxMhIV5mZmro",
        "colab_type": "code",
        "colab": {
          "base_uri": "https://localhost:8080/",
          "height": 197
        },
        "outputId": "3e7261b9-4cbd-48be-a2e1-7e03c44396ef"
      },
      "source": [
        "!unzip checkpoints.zip"
      ],
      "execution_count": null,
      "outputs": []
    },
    {
      "cell_type": "markdown",
      "metadata": {
        "id": "GcD0ppkPZmrt",
        "colab_type": "text"
      },
      "source": [
        "Phase lookup table:"
      ]
    },
    {
      "cell_type": "code",
      "metadata": {
        "id": "n0_0hM_rZmru",
        "colab_type": "code",
        "colab": {}
      },
      "source": [
        "PHASES = [\n",
        "    \"Preparation\",\n",
        "    \"CalotTriangleDissection\",\n",
        "    \"ClippingAndCutting\",\n",
        "    \"GallbladderDissection\",\n",
        "    \"GallbladderPackaging\",\n",
        "    \"CleaningAndCoagulation\",\n",
        "    \"GallbladderRetraction\"\n",
        "]"
      ],
      "execution_count": null,
      "outputs": []
    },
    {
      "cell_type": "markdown",
      "metadata": {
        "id": "c9S23-5FZmry",
        "colab_type": "text"
      },
      "source": [
        "## Predicting phases"
      ]
    },
    {
      "cell_type": "code",
      "metadata": {
        "tags": [],
        "id": "2F1WYUGfZmrz",
        "colab_type": "code",
        "colab": {
          "base_uri": "https://localhost:8080/",
          "height": 1000
        },
        "outputId": "a578638e-2b73-43fa-f52e-847aff0ce291"
      },
      "source": [
        "phases = phase_recognition(VIDPATH)"
      ],
      "execution_count": null,
      "outputs": []
    },
    {
      "cell_type": "markdown",
      "metadata": {
        "id": "0fw_ZmqoZmr2",
        "colab_type": "text"
      },
      "source": [
        "## Visualizing the results"
      ]
    },
    {
      "cell_type": "code",
      "metadata": {
        "id": "LSxDuOWyZmr3",
        "colab_type": "code",
        "colab": {
          "base_uri": "https://localhost:8080/",
          "height": 339
        },
        "outputId": "19f4d24e-6cfd-4fc1-d3b7-f11ddd2a3f05"
      },
      "source": [
        "import matplotlib.pyplot as plt\n",
        "\n",
        "fig = plt.figure(figsize=(10, 2))\n",
        "ax = fig.add_subplot(111)\n",
        "ax.set_yticks([], [])\n",
        "im = ax.pcolormesh(phases, cmap=\"Set2\", vmin=1, vmax=8)\n",
        "cbar = fig.colorbar(im, ticks=[1.5, 2.5, 3.5, 4.5, 5.5, 6.5, 7.5], orientation=\"vertical\", drawedges=True)\n",
        "cbar.ax.set_yticklabels(PHASES)"
      ],
      "execution_count": null,
      "outputs": []
    }
  ]
}