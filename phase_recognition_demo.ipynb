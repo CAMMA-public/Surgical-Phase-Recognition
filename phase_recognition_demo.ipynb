{
 "cells": [
  {
   "cell_type": "code",
   "execution_count": null,
   "metadata": {},
   "outputs": [],
   "source": [
    "from process_video import phase_recognition, phase_plot"
   ]
  },
  {
   "cell_type": "markdown",
   "metadata": {},
   "source": [
    "## Downloading the data"
   ]
  },
  {
   "cell_type": "code",
   "execution_count": null,
   "metadata": {},
   "outputs": [],
   "source": [
    "VIDPATH = \"videos/phase_recognition_example.mp4\""
   ]
  },
  {
   "cell_type": "code",
   "execution_count": null,
   "metadata": {
    "tags": []
   },
   "outputs": [],
   "source": [
    "!wget --content-disposition https://seafile.unistra.fr/f/e96d3aeae823470ba55f/?dl=1"
   ]
  },
  {
   "cell_type": "code",
   "execution_count": null,
   "metadata": {
    "tags": []
   },
   "outputs": [],
   "source": [
    "!wget --content-disposition https://seafile.unistra.fr/f/fb7ffc251bf14711a6b4/?dl=1"
   ]
  },
  {
   "cell_type": "code",
   "execution_count": null,
   "metadata": {
    "tags": []
   },
   "outputs": [],
   "source": [
    "!unzip videos.zip"
   ]
  },
  {
   "cell_type": "code",
   "execution_count": null,
   "metadata": {
    "tags": []
   },
   "outputs": [],
   "source": [
    "!unzip checkpoints.zip"
   ]
  },
  {
   "cell_type": "code",
   "execution_count": null,
   "metadata": {},
   "outputs": [],
   "source": [
    "PHASES = [\n",
    "    \"Preparation\",\n",
    "    \"CalotTriangleDissection\",\n",
    "    \"ClippingAndCutting\",\n",
    "    \"GallbladderDissection\",\n",
    "    \"GallbladderPackaging\",\n",
    "    \"CleaningAndCoagulation\",\n",
    "    \"GallbladderRetraction\"\n",
    "]"
   ]
  },
  {
   "cell_type": "markdown",
   "metadata": {},
   "source": [
    "## Predicting phases"
   ]
  },
  {
   "cell_type": "code",
   "execution_count": null,
   "metadata": {
    "tags": []
   },
   "outputs": [],
   "source": [
    "phases = phase_recognition(VIDPATH)"
   ]
  },
  {
   "cell_type": "markdown",
   "metadata": {},
   "source": [
    "## Visualizing the results"
   ]
  },
  {
   "cell_type": "code",
   "execution_count": null,
   "metadata": {},
   "outputs": [],
   "source": [
    "import matplotlib.pyplot as plt\n",
    "\n",
    "fig = plt.figure(figsize=(10, 2))\n",
    "ax = fig.add_subplot(111)\n",
    "ax.set_yticks([], [])\n",
    "im = ax.pcolormesh(phases, cmap=\"Set2\", vmin=1, vmax=8)\n",
    "cbar = fig.colorbar(im, ticks=[1.5, 2.5, 3.5, 4.5, 5.5, 6.5, 7.5], orientation=\"vertical\", drawedges=True)\n",
    "cbar.ax.set_yticklabels(PHASES)"
   ]
  }
 ],
 "metadata": {
  "language_info": {
   "codemirror_mode": {
    "name": "ipython",
    "version": 3
   },
   "file_extension": ".py",
   "mimetype": "text/x-python",
   "name": "python",
   "nbconvert_exporter": "python",
   "pygments_lexer": "ipython3",
   "version": "3.6.6-final"
  },
  "orig_nbformat": 2,
  "kernelspec": {
   "name": "python3",
   "display_name": "Python 3"
  }
 },
 "nbformat": 4,
 "nbformat_minor": 2
}