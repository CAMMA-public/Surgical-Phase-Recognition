{
 "cells": [
  {
   "cell_type": "code",
   "execution_count": null,
   "metadata": {},
   "outputs": [],
   "source": [
    "from process_video import phase_recognition, phase_plot"
   ]
  },
  {
   "cell_type": "markdown",
   "metadata": {},
   "source": [
    "## Downloading the data"
   ]
  },
  {
   "cell_type": "code",
   "execution_count": null,
   "metadata": {},
   "outputs": [],
   "source": [
    "VIDPATH = \"videos/phase_recognition_example.mp4\""
   ]
  },
  {
   "cell_type": "code",
   "execution_count": null,
   "metadata": {
    "tags": []
   },
   "outputs": [],
   "source": [
    "!wget --content-disposition https://seafile.unistra.fr/f/c7841fdbb6144fa1acb0/?dl=1"
   ]
  },
  {
   "cell_type": "code",
   "execution_count": 2,
   "metadata": {
    "tags": []
   },
   "outputs": [
    {
     "output_type": "stream",
     "name": "stdout",
     "text": "--2020-07-08 12:13:59--  https://seafile.unistra.fr/f/c7841fdbb6144fa1acb0/?dl=1\nResolving seafile.unistra.fr (seafile.unistra.fr)... 130.79.254.37\nConnecting to seafile.unistra.fr (seafile.unistra.fr)|130.79.254.37|:443... connected.\nHTTP request sent, awaiting response...302 FOUND\nLocation: https://seafile.unistra.fr/seafhttp/files/47cbe1ca-68de-4b3e-92e0-525f60c415b3/videos.zip [following]\n--2020-07-08 12:13:59--  https://seafile.unistra.fr/seafhttp/files/47cbe1ca-68de-4b3e-92e0-525f60c415b3/videos.zip\nReusing existing connection to seafile.unistra.fr:443.\nHTTP request sent, awaiting response...200 OK\nLength: 557696758 (532M) [application/zip]\nSaving to: ‘videos.zip’\n\nvideos.zip          100%[===================>] 531,86M  37,8MB/s    in 15s     \n\n2020-07-08 12:14:13 (36,4 MB/s) - ‘videos.zip’ saved [557696758/557696758]\n\n"
    }
   ],
   "source": [
    "!wget --content-disposition https://seafile.unistra.fr/f/c7841fdbb6144fa1acb0/?dl=1"
   ]
  },
  {
   "cell_type": "code",
   "execution_count": null,
   "metadata": {
    "tags": []
   },
   "outputs": [],
   "source": [
    "!unzip videos.zip"
   ]
  },
  {
   "cell_type": "code",
   "execution_count": null,
   "metadata": {
    "tags": []
   },
   "outputs": [],
   "source": [
    "!unzip checkpoints.zip"
   ]
  },
  {
   "cell_type": "code",
   "execution_count": null,
   "metadata": {},
   "outputs": [],
   "source": [
    "PHASES = [\n",
    "    \"Preparation\",\n",
    "    \"CalotTriangleDissection\",\n",
    "    \"ClippingAndCutting\",\n",
    "    \"GallbladderDissection\",\n",
    "    \"GallbladderPackaging\",\n",
    "    \"CleaningAndCoagulation\",\n",
    "    \"GallbladderRetraction\"\n",
    "]"
   ]
  },
  {
   "cell_type": "markdown",
   "metadata": {},
   "source": [
    "## Predicting phases"
   ]
  },
  {
   "cell_type": "code",
   "execution_count": null,
   "metadata": {
    "tags": []
   },
   "outputs": [],
   "source": [
    "phases = phase_recognition(VIDPATH)"
   ]
  },
  {
   "cell_type": "markdown",
   "metadata": {},
   "source": [
    "## Visualizing the results"
   ]
  },
  {
   "cell_type": "code",
   "execution_count": null,
   "metadata": {},
   "outputs": [],
   "source": [
    "import matplotlib.pyplot as plt\n",
    "\n",
    "fig = plt.figure(figsize=(10, 2))\n",
    "ax = fig.add_subplot(111)\n",
    "ax.set_yticks([], [])\n",
    "im = ax.pcolormesh(phases, cmap=\"Set2\", vmin=1, vmax=8)\n",
    "cbar = fig.colorbar(im, ticks=[1.5, 2.5, 3.5, 4.5, 5.5, 6.5, 7.5], orientation=\"vertical\", drawedges=True)\n",
    "cbar.ax.set_yticklabels(PHASES)"
   ]
  }
 ],
 "metadata": {
  "language_info": {
   "codemirror_mode": {
    "name": "ipython",
    "version": 3
   },
   "file_extension": ".py",
   "mimetype": "text/x-python",
   "name": "python",
   "nbconvert_exporter": "python",
   "pygments_lexer": "ipython3",
   "version": "3.6.6-final"
  },
  "orig_nbformat": 2,
  "kernelspec": {
   "name": "python3",
   "display_name": "Python 3"
  }
 },
 "nbformat": 4,
 "nbformat_minor": 2
}